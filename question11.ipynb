{
 "cells": [
  {
   "cell_type": "markdown",
   "id": "6116f9a4-7974-42eb-a50b-db4f2fc93b60",
   "metadata": {},
   "source": [
    "# Thi Ngoc Anh Nguyen\n",
    "Notebook for assignment 7"
   ]
  },
  {
   "cell_type": "code",
   "execution_count": 1,
   "id": "2ebb79ca-9e2e-4564-b004-e67ad567ced6",
   "metadata": {},
   "outputs": [
    {
     "name": "stdout",
     "output_type": "stream",
     "text": [
      "5.0\n"
     ]
    }
   ],
   "source": [
    "def compute_mean(values):\n",
    "    if not values:  \n",
    "        return None\n",
    "    mean_value = sum(values) / len(values)\n",
    "    return mean_value\n",
    "\n",
    "result = compute_mean([2, 4, 6, 8])\n",
    "print(result)"
   ]
  },
  {
   "cell_type": "markdown",
   "id": "c2cae906-c757-49bf-ba7d-e6fff7231ba5",
   "metadata": {},
   "source": [
    "This code defines a function *compute_mean* that calculates the mean of a list of numbers. Here, I have this function with the list [2, 4, 6, 8] and prints the result. When I run this code, the output should be 5.0 and I have got the result as expected.\n",
    "\n",
    "Please find the equation of the mean written in Latex below:\n",
    "$$\n",
    "\\begin{aligned}\n",
    "\\bar{x}=\\frac{x_1 + x_2 + \\ldots + x_n}{n}&=\\frac{1}{n}\\left(\\sum_{i=1}^{n} x_i \\right)\n",
    "\\end{aligned}\n",
    "$$\n"
   ]
  },
  {
   "cell_type": "markdown",
   "id": "30a20c0f-0580-45d9-b1b3-2172cee42b4a",
   "metadata": {},
   "source": [
    "![Screenshot Question 11](image/Screenshot_question-11.png)"
   ]
  },
  {
   "cell_type": "code",
   "execution_count": null,
   "id": "03d2d169-43b3-40a1-b3c3-f8d886aaaa62",
   "metadata": {},
   "outputs": [],
   "source": []
  }
 ],
 "metadata": {
  "kernelspec": {
   "display_name": "Python [conda env:jupterlab]",
   "language": "python",
   "name": "conda-env-jupterlab-py"
  },
  "language_info": {
   "codemirror_mode": {
    "name": "ipython",
    "version": 3
   },
   "file_extension": ".py",
   "mimetype": "text/x-python",
   "name": "python",
   "nbconvert_exporter": "python",
   "pygments_lexer": "ipython3",
   "version": "3.12.4"
  }
 },
 "nbformat": 4,
 "nbformat_minor": 5
}
