{
 "cells": [
  {
   "cell_type": "markdown",
   "id": "6116f9a4-7974-42eb-a50b-db4f2fc93b60",
   "metadata": {},
   "source": [
    "We are currently working in the following directory:"
   ]
  },
  {
   "cell_type": "code",
   "execution_count": 1,
   "id": "2ebb79ca-9e2e-4564-b004-e67ad567ced6",
   "metadata": {},
   "outputs": [
    {
     "name": "stdout",
     "output_type": "stream",
     "text": [
      "/c/Users/anguye/Desktop/jupyterlab_practice\n"
     ]
    }
   ],
   "source": [
    "!pwd"
   ]
  },
  {
   "cell_type": "markdown",
   "id": "c2cae906-c757-49bf-ba7d-e6fff7231ba5",
   "metadata": {},
   "source": [
    "To time how long it takes to run a Python cell, we could use the `timeit` command inside a cell as is shown below: Followed by the proper use of the `timeit` command to time the following loop:\n",
    " ```\n",
    "    for i in range(1_000_000):\n",
    "        i**2\n",
    " ```"
   ]
  },
  {
   "cell_type": "code",
   "execution_count": 2,
   "id": "ae96448b-1640-44d6-a28f-851a1024a11b",
   "metadata": {},
   "outputs": [
    {
     "name": "stdout",
     "output_type": "stream",
     "text": [
      "Requirement already satisfied: nbconvert in c:\\users\\anguye\\appdata\\local\\miniconda3\\envs\\jupterlab\\lib\\site-packages (7.16.4)\n",
      "Requirement already satisfied: beautifulsoup4 in c:\\users\\anguye\\appdata\\local\\miniconda3\\envs\\jupterlab\\lib\\site-packages (from nbconvert) (4.12.3)\n",
      "Requirement already satisfied: bleach!=5.0.0 in c:\\users\\anguye\\appdata\\local\\miniconda3\\envs\\jupterlab\\lib\\site-packages (from nbconvert) (6.1.0)\n",
      "Requirement already satisfied: defusedxml in c:\\users\\anguye\\appdata\\local\\miniconda3\\envs\\jupterlab\\lib\\site-packages (from nbconvert) (0.7.1)\n",
      "Requirement already satisfied: jinja2>=3.0 in c:\\users\\anguye\\appdata\\local\\miniconda3\\envs\\jupterlab\\lib\\site-packages (from nbconvert) (3.1.4)\n",
      "Requirement already satisfied: jupyter-core>=4.7 in c:\\users\\anguye\\appdata\\local\\miniconda3\\envs\\jupterlab\\lib\\site-packages (from nbconvert) (5.7.2)\n",
      "Requirement already satisfied: jupyterlab-pygments in c:\\users\\anguye\\appdata\\local\\miniconda3\\envs\\jupterlab\\lib\\site-packages (from nbconvert) (0.3.0)\n",
      "Requirement already satisfied: markupsafe>=2.0 in c:\\users\\anguye\\appdata\\local\\miniconda3\\envs\\jupterlab\\lib\\site-packages (from nbconvert) (2.1.5)\n",
      "Requirement already satisfied: mistune<4,>=2.0.3 in c:\\users\\anguye\\appdata\\local\\miniconda3\\envs\\jupterlab\\lib\\site-packages (from nbconvert) (3.0.2)\n",
      "Requirement already satisfied: nbclient>=0.5.0 in c:\\users\\anguye\\appdata\\local\\miniconda3\\envs\\jupterlab\\lib\\site-packages (from nbconvert) (0.10.0)\n",
      "Requirement already satisfied: nbformat>=5.7 in c:\\users\\anguye\\appdata\\local\\miniconda3\\envs\\jupterlab\\lib\\site-packages (from nbconvert) (5.10.4)\n",
      "Requirement already satisfied: packaging in c:\\users\\anguye\\appdata\\local\\miniconda3\\envs\\jupterlab\\lib\\site-packages (from nbconvert) (24.1)\n",
      "Requirement already satisfied: pandocfilters>=1.4.1 in c:\\users\\anguye\\appdata\\local\\miniconda3\\envs\\jupterlab\\lib\\site-packages (from nbconvert) (1.5.1)\n",
      "Requirement already satisfied: pygments>=2.4.1 in c:\\users\\anguye\\appdata\\local\\miniconda3\\envs\\jupterlab\\lib\\site-packages (from nbconvert) (2.18.0)\n",
      "Requirement already satisfied: tinycss2 in c:\\users\\anguye\\appdata\\local\\miniconda3\\envs\\jupterlab\\lib\\site-packages (from nbconvert) (1.3.0)\n",
      "Requirement already satisfied: traitlets>=5.1 in c:\\users\\anguye\\appdata\\local\\miniconda3\\envs\\jupterlab\\lib\\site-packages (from nbconvert) (5.14.3)\n",
      "Requirement already satisfied: six>=1.9.0 in c:\\users\\anguye\\appdata\\local\\miniconda3\\envs\\jupterlab\\lib\\site-packages (from bleach!=5.0.0->nbconvert) (1.16.0)\n",
      "Requirement already satisfied: webencodings in c:\\users\\anguye\\appdata\\local\\miniconda3\\envs\\jupterlab\\lib\\site-packages (from bleach!=5.0.0->nbconvert) (0.5.1)\n",
      "Requirement already satisfied: platformdirs>=2.5 in c:\\users\\anguye\\appdata\\local\\miniconda3\\envs\\jupterlab\\lib\\site-packages (from jupyter-core>=4.7->nbconvert) (4.2.2)\n",
      "Requirement already satisfied: pywin32>=300 in c:\\users\\anguye\\appdata\\local\\miniconda3\\envs\\jupterlab\\lib\\site-packages (from jupyter-core>=4.7->nbconvert) (306)\n",
      "Requirement already satisfied: jupyter-client>=6.1.12 in c:\\users\\anguye\\appdata\\local\\miniconda3\\envs\\jupterlab\\lib\\site-packages (from nbclient>=0.5.0->nbconvert) (8.6.2)\n",
      "Requirement already satisfied: fastjsonschema>=2.15 in c:\\users\\anguye\\appdata\\local\\miniconda3\\envs\\jupterlab\\lib\\site-packages (from nbformat>=5.7->nbconvert) (2.20.0)\n",
      "Requirement already satisfied: jsonschema>=2.6 in c:\\users\\anguye\\appdata\\local\\miniconda3\\envs\\jupterlab\\lib\\site-packages (from nbformat>=5.7->nbconvert) (4.23.0)\n",
      "Requirement already satisfied: soupsieve>1.2 in c:\\users\\anguye\\appdata\\local\\miniconda3\\envs\\jupterlab\\lib\\site-packages (from beautifulsoup4->nbconvert) (2.5)\n",
      "Requirement already satisfied: attrs>=22.2.0 in c:\\users\\anguye\\appdata\\local\\miniconda3\\envs\\jupterlab\\lib\\site-packages (from jsonschema>=2.6->nbformat>=5.7->nbconvert) (23.2.0)\n",
      "Requirement already satisfied: jsonschema-specifications>=2023.03.6 in c:\\users\\anguye\\appdata\\local\\miniconda3\\envs\\jupterlab\\lib\\site-packages (from jsonschema>=2.6->nbformat>=5.7->nbconvert) (2023.12.1)\n",
      "Requirement already satisfied: referencing>=0.28.4 in c:\\users\\anguye\\appdata\\local\\miniconda3\\envs\\jupterlab\\lib\\site-packages (from jsonschema>=2.6->nbformat>=5.7->nbconvert) (0.35.1)\n",
      "Requirement already satisfied: rpds-py>=0.7.1 in c:\\users\\anguye\\appdata\\local\\miniconda3\\envs\\jupterlab\\lib\\site-packages (from jsonschema>=2.6->nbformat>=5.7->nbconvert) (0.19.0)\n",
      "Requirement already satisfied: python-dateutil>=2.8.2 in c:\\users\\anguye\\appdata\\local\\miniconda3\\envs\\jupterlab\\lib\\site-packages (from jupyter-client>=6.1.12->nbclient>=0.5.0->nbconvert) (2.9.0)\n",
      "Requirement already satisfied: pyzmq>=23.0 in c:\\users\\anguye\\appdata\\local\\miniconda3\\envs\\jupterlab\\lib\\site-packages (from jupyter-client>=6.1.12->nbclient>=0.5.0->nbconvert) (26.0.3)\n",
      "Requirement already satisfied: tornado>=6.2 in c:\\users\\anguye\\appdata\\local\\miniconda3\\envs\\jupterlab\\lib\\site-packages (from jupyter-client>=6.1.12->nbclient>=0.5.0->nbconvert) (6.4.1)\n"
     ]
    }
   ],
   "source": [
    "!pip install nbconvert"
   ]
  },
  {
   "cell_type": "code",
   "execution_count": 3,
   "id": "d8774436-4530-4303-bd37-84f5d0fe788b",
   "metadata": {},
   "outputs": [
    {
     "name": "stderr",
     "output_type": "stream",
     "text": [
      "[NbConvertApp] Converting notebook question12.ipynb to html\n",
      "[NbConvertApp] Writing 270562 bytes to question12.html\n"
     ]
    }
   ],
   "source": [
    "!jupyter nbconvert question12.ipynb \\\n",
    "--to html \\\n",
    "--output=question12.html \\\n",
    "--no-input"
   ]
  },
  {
   "cell_type": "code",
   "execution_count": null,
   "id": "5c98dc4c-aa0a-4ff6-ba5f-ae5d86549548",
   "metadata": {},
   "outputs": [],
   "source": [
    "![Screenshot Question 12](http://localhost:8888/lab/tree/image/Screenshot_question-11.png)"
   ]
  }
 ],
 "metadata": {
  "kernelspec": {
   "display_name": "Python [conda env:jupterlab]",
   "language": "python",
   "name": "conda-env-jupterlab-py"
  },
  "language_info": {
   "codemirror_mode": {
    "name": "ipython",
    "version": 3
   },
   "file_extension": ".py",
   "mimetype": "text/x-python",
   "name": "python",
   "nbconvert_exporter": "python",
   "pygments_lexer": "ipython3",
   "version": "3.12.4"
  }
 },
 "nbformat": 4,
 "nbformat_minor": 5
}
